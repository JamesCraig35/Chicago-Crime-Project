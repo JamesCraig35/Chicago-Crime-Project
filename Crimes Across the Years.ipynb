{
 "cells": [
  {
   "cell_type": "code",
   "execution_count": 1,
   "id": "3a2f5b88",
   "metadata": {},
   "outputs": [
    {
     "name": "stdout",
     "output_type": "stream",
     "text": [
      "<class 'pandas.core.frame.DataFrame'>\n",
      "RangeIndex: 485886 entries, 0 to 485885\n",
      "Data columns (total 12 columns):\n",
      " #   Column                Non-Null Count   Dtype  \n",
      "---  ------                --------------   -----  \n",
      " 0   ID                    485886 non-null  int64  \n",
      " 1   Date                  485886 non-null  object \n",
      " 2   Primary Type          485886 non-null  object \n",
      " 3   Description           485886 non-null  object \n",
      " 4   Location Description  485881 non-null  object \n",
      " 5   Arrest                485886 non-null  bool   \n",
      " 6   Domestic              485886 non-null  bool   \n",
      " 7   Beat                  485886 non-null  int64  \n",
      " 8   District              485886 non-null  float64\n",
      " 9   Ward                  4303 non-null    float64\n",
      " 10  Latitude              482876 non-null  float64\n",
      " 11  Longitude             482876 non-null  float64\n",
      "dtypes: bool(2), float64(4), int64(2), object(4)\n",
      "memory usage: 38.0+ MB\n"
     ]
    }
   ],
   "source": [
    "import pandas as pd\n",
    "data = 'data/Chicago-Crime_2001.csv'\n",
    "df = pd.read_csv(data)\n",
    "df.info()"
   ]
  }
 ],
 "metadata": {
  "kernelspec": {
   "display_name": "Python (dojo-env)",
   "language": "python",
   "name": "dojo-env"
  },
  "language_info": {
   "codemirror_mode": {
    "name": "ipython",
    "version": 3
   },
   "file_extension": ".py",
   "mimetype": "text/x-python",
   "name": "python",
   "nbconvert_exporter": "python",
   "pygments_lexer": "ipython3",
   "version": "3.11.5"
  }
 },
 "nbformat": 4,
 "nbformat_minor": 5
}
